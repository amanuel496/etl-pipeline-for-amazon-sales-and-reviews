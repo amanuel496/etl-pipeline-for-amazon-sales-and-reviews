{
 "cells": [
  {
   "cell_type": "code",
   "execution_count": null,
   "metadata": {},
   "outputs": [],
   "source": [
    "# Sales Trends Analysis for Amazon Sales Dataset\n",
    "\n",
    "import pandas as pd\n",
    "import matplotlib.pyplot as plt\n",
    "import seaborn as sns"
   ]
  },
  {
   "cell_type": "code",
   "execution_count": null,
   "metadata": {},
   "outputs": [],
   "source": [
    "# Load cleaned dataset\n",
    "df = pd.read_csv(\"../data/processed/amazon_sales_cleaned.csv\")"
   ]
  },
  {
   "cell_type": "code",
   "execution_count": null,
   "metadata": {},
   "outputs": [],
   "source": [
    "# Convert price columns to numeric\n",
    "df['discounted_price'] = df['discounted_price'].replace('[₹,]', '', regex=True).astype(float)\n",
    "df['actual_price'] = df['actual_price'].replace('[₹,]', '', regex=True).astype(float)"
   ]
  },
  {
   "cell_type": "code",
   "execution_count": null,
   "metadata": {},
   "outputs": [],
   "source": [
    "# Plot price trends \n",
    "plt.figure(figsize=(100, 40))\n",
    "sns.lineplot(data=df, x='category', y='discounted_price', estimator='mean', ci=None)\n",
    "plt.xticks(rotation=80)\n",
    "plt.title(\"Average Discounted Price per Category\")\n",
    "plt.xlabel(\"Category\")\n",
    "plt.ylabel(\"Discounted Price ($)\")\n",
    "plt.show()"
   ]
  },
  {
   "cell_type": "code",
   "execution_count": null,
   "metadata": {},
   "outputs": [],
   "source": [
    "# Discount percentage distribution\n",
    "plt.figure(figsize=(50, 5))\n",
    "sns.histplot(df['discount_percentage'].dropna(), bins=20, kde=True)\n",
    "plt.title(\"Distribution of Discount Percentages\")\n",
    "plt.xlabel(\"Discount Percentage (%)\")\n",
    "plt.ylabel(\"Count\")\n",
    "plt.show()"
   ]
  },
  {
   "cell_type": "code",
   "execution_count": null,
   "metadata": {},
   "outputs": [],
   "source": [
    "# Save analysis results\n",
    "df.to_csv(\"../data/processed/amazon_sales_trends.csv\", index=False)\n",
    "\n",
    "print(\"Sales Trends Analysis Completed!\")"
   ]
  }
 ],
 "metadata": {
  "kernelspec": {
   "display_name": "venv",
   "language": "python",
   "name": "python3"
  },
  "language_info": {
   "codemirror_mode": {
    "name": "ipython",
    "version": 3
   },
   "file_extension": ".py",
   "mimetype": "text/x-python",
   "name": "python",
   "nbconvert_exporter": "python",
   "pygments_lexer": "ipython3",
   "version": "3.11.9"
  }
 },
 "nbformat": 4,
 "nbformat_minor": 2
}
